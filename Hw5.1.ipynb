{
 "cells": [
  {
   "cell_type": "code",
   "execution_count": 18,
   "id": "07e8bf9a",
   "metadata": {},
   "outputs": [
    {
     "name": "stdout",
     "output_type": "stream",
     "text": [
      "     fun: 89.44271909949347\n",
      "     jac: array([1., 2.])\n",
      " message: 'Optimization terminated successfully'\n",
      "    nfev: 107\n",
      "     nit: 33\n",
      "    njev: 33\n",
      "  status: 0\n",
      " success: True\n",
      "       x: array([44.72136003, 22.36067954])\n"
     ]
    }
   ],
   "source": [
    "from scipy.interpolate import griddata\n",
    "from scipy.optimize import minimize\n",
    "import numpy as np\n",
    "import matplotlib.pyplot as plt\n",
    "\n",
    "\n",
    "x = np.linspace(0, 1000, 1000)\n",
    "y = np.linspace(0, 1000, 1000)\n",
    "X, Y = np.meshgrid(x, y)\n",
    "\n",
    "px, py = np.random.choice(x, 1000), np.random.choice(y, 1000)\n",
    "\n",
    "def func(arg):\n",
    "    x, y = arg\n",
    "    return x + 2*y\n",
    "\n",
    "#z = griddata((px, py), func((px, py)), (X, Y), method='cubic')\n",
    "#plt.contour(x, y, z)\n",
    "\n",
    "cons = ({'type': 'eq', 'fun': lambda x:  x[0] * x[1] - 1000})\n",
    "\n",
    "xbounds = (0, 1000)\n",
    "ybounds = (0, 1000)\n",
    "bounds = (xbounds, ybounds)\n",
    "\n",
    "result = minimize(func, [1, 999], bounds = bounds, constraints = cons)\n",
    "print(result)"
   ]
  }
 ],
 "metadata": {
  "kernelspec": {
   "display_name": "Python 3 (ipykernel)",
   "language": "python",
   "name": "python3"
  },
  "language_info": {
   "codemirror_mode": {
    "name": "ipython",
    "version": 3
   },
   "file_extension": ".py",
   "mimetype": "text/x-python",
   "name": "python",
   "nbconvert_exporter": "python",
   "pygments_lexer": "ipython3",
   "version": "3.9.5"
  }
 },
 "nbformat": 4,
 "nbformat_minor": 5
}
